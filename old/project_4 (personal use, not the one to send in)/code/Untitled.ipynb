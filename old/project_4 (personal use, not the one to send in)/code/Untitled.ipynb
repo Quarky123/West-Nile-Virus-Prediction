{
 "cells": [
  {
   "cell_type": "code",
   "execution_count": 1,
   "metadata": {},
   "outputs": [],
   "source": [
    "import pandas as pd\n",
    "from matplotlib import pyplot as plt\n",
    "import numpy as np\n",
    "# pip install pandas-profiling\n",
    "import seaborn as sns\n",
    "%matplotlib inline\n",
    "import time\n",
    "import datetime\n",
    "\n",
    "traps = pd.read_csv('../assets/train.csv')\n",
    "test = pd.read_csv('../assets/test.csv')\n",
    "spray = pd.read_csv('../assets/spray.csv')\n",
    "weather = pd.read_csv('../assets/weather.csv')"
   ]
  },
  {
   "cell_type": "code",
   "execution_count": 5,
   "metadata": {},
   "outputs": [
    {
     "ename": "SyntaxError",
     "evalue": "invalid syntax (<ipython-input-5-e55ec90c3652>, line 5)",
     "output_type": "error",
     "traceback": [
      "\u001b[0;36m  File \u001b[0;32m\"<ipython-input-5-e55ec90c3652>\"\u001b[0;36m, line \u001b[0;32m5\u001b[0m\n\u001b[0;31m    print col + ' has ' + str(station_1) + ' missing values at station 1'\u001b[0m\n\u001b[0m          ^\u001b[0m\n\u001b[0;31mSyntaxError\u001b[0m\u001b[0;31m:\u001b[0m invalid syntax\n"
     ]
    }
   ],
   "source": [
    "\n",
    "# skip the numeric columns, because they can't contain the 'M' string\n",
    "check_missing_values = ['Depart','Heat','Cool','Sunrise','Sunset','Depth','Water1','SnowFall']\n",
    "for col in weather[check_missing_values]:\n",
    "    station_1 = len(weather[(weather[col].str.contains('\\D')) & (weather.Station==1)])\n",
    "    print col + ' has ' + str(station_1) + ' missing values at station 1'\n",
    "    station_2 = len(weather[(weather[col].str.contains('\\D')) & (weather.Station==2)])\n",
    "    print col + ' has ' + str(station_2) + ' missing values at station 2'\n",
    "    print ''"
   ]
  },
  {
   "cell_type": "code",
   "execution_count": 3,
   "metadata": {},
   "outputs": [
    {
     "data": {
      "image/png": "[encoded data removed]",
      "text/plain": [
       "<Figure size 432x288 with 2 Axes>"
      ]
     },
     "metadata": {
      "needs_background": "light"
     },
     "output_type": "display_data"
    }
   ],
   "source": [
    "#Before adding anything, let's see what the feature correlation looks like\n",
    "def find_correlation(data,title):\n",
    "    correlation = data.corr()\n",
    "    sns.heatmap(correlation, vmax=.8, square=True)\n",
    "    plt.title(title)\n",
    "\n",
    "find_correlation(traps, 'Traps')"
   ]
  },
  {
   "cell_type": "code",
   "execution_count": null,
   "metadata": {},
   "outputs": [],
   "source": [
    "# Get rid of features that we cannot use\n",
    "features = traps.columns.drop(['WnvPresent','Date','Trap'])\n",
    "\n",
    "X = traps[features]\n",
    "y = traps.WnvPresent"
   ]
  },
  {
   "cell_type": "code",
   "execution_count": null,
   "metadata": {},
   "outputs": [],
   "source": []
  }
 ],
 "metadata": {
  "kernelspec": {
   "display_name": "Python 3",
   "language": "python",
   "name": "python3"
  },
  "language_info": {
   "codemirror_mode": {
    "name": "ipython",
    "version": 3
   },
   "file_extension": ".py",
   "mimetype": "text/x-python",
   "name": "python",
   "nbconvert_exporter": "python",
   "pygments_lexer": "ipython3",
   "version": "3.8.3"
  }
 },
 "nbformat": 4,
 "nbformat_minor": 4
}
